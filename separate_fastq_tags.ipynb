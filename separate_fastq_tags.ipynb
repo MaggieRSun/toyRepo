{
 "cells": [
  {
   "cell_type": "code",
   "execution_count": 1,
   "metadata": {},
   "outputs": [],
   "source": [
    "import gzip\n",
    "import itertools\n",
    "import subprocess\n",
    "import os\n",
    "import re\n",
    "import progressbar\n",
    "import time\n",
    "from itertools import izip_longest, izip, islice, tee, repeat"
   ]
  },
  {
   "cell_type": "code",
   "execution_count": 2,
   "metadata": {
    "collapsed": true
   },
   "outputs": [],
   "source": [
    "__author__='Maggie Ruimin Sun'"
   ]
  },
  {
   "cell_type": "code",
   "execution_count": 25,
   "metadata": {
    "collapsed": true
   },
   "outputs": [],
   "source": [
    "source = '/home/yaneng/RSun/Data/qiagen-colon/'\n",
    "outdir = source + 'undetermined/'\n",
    "readFile1 = 'QIAGEN-2959YJ_S2_L001_R1_001.fastq.gz'\n",
    "readFile2 = 'QIAGEN-2959YJ_S2_L001_R2_001.fastq.gz'\n",
    "gspFile = 'dhs-002z_primer5_refGene.txt'\n",
    "read1_out = 'QIAGEN-2959YJ_S2_L001_R1_001_undetermined.fq'\n",
    "read2_out = 'QIAGEN-2959YJ_S2_L001_R2_001_undetermined.fq'\n",
    "index1_out = 'QIAGEN-2959YJ_S2_L001_I1_001_undetermined.fq'\n",
    "index2_out = 'QIAGEN-2959YJ_S2_L001_I2_001_undetermined.fq'"
   ]
  },
  {
   "cell_type": "code",
   "execution_count": 4,
   "metadata": {},
   "outputs": [
    {
     "data": {
      "text/plain": [
       "6433396"
      ]
     },
     "execution_count": 4,
     "metadata": {},
     "output_type": "execute_result"
    }
   ],
   "source": [
    "fq1 = gzip.open(source+readFile1, 'rb')\n",
    "reads1 = fq1.readlines()\n",
    "fq1.close()\n",
    "len(reads1)"
   ]
  },
  {
   "cell_type": "code",
   "execution_count": 5,
   "metadata": {},
   "outputs": [
    {
     "name": "stdout",
     "output_type": "stream",
     "text": [
      "20 44 33.0655513827\n"
     ]
    }
   ],
   "source": [
    "primers = {}\n",
    "primer_len = []\n",
    "gsp1 = open(source+gspFile)\n",
    "for row in gsp1:\n",
    "    v = row.strip().split('\\t')\n",
    "    if len(v) < 2:\n",
    "        break\n",
    "    prim_seq = v[2]\n",
    "    primer_len.append(len(prim_seq))\n",
    "    v.remove(prim_seq)\n",
    "    primers[prim_seq] = '\\t'.join(v)\n",
    "gsp1.close()\n",
    "print min(primer_len), max(primer_len), sum(primer_len) / float(len(primer_len))"
   ]
  },
  {
   "cell_type": "markdown",
   "metadata": {},
   "source": [
    "#### For the first read mates, separate primers from the read sequences\n",
    "For each read sequence, compare the first k-mer with the primer list, where k $\\in$ (primer_len_min, primer_len_max). Once the primer is determined, separate the read sequence into two parts: one is the primer and the other is the DNA sequence of interest."
   ]
  },
  {
   "cell_type": "code",
   "execution_count": 6,
   "metadata": {},
   "outputs": [],
   "source": [
    "Nreads = len(reads1) / 4\n",
    "primer_len_min = min(primer_len)\n",
    "primer_len_max = max(primer_len)\n",
    "primers_sorted = sorted(primers, key=len, reverse=True)"
   ]
  },
  {
   "cell_type": "markdown",
   "metadata": {},
   "source": [
    "Define a function to check whether a primer has probability to match a subsequence by allowing at most 2 mismatches. \n",
    "* Given a primer, divide it into 3 non-overlapping parts, averagely.\n",
    "* The function aims at checking if one of the three parts can be exactly mapped to a read sequence.\n",
    "* If none of the three parts of a primer has exact match to the read, return 0 meaning that the primer has at least three mismatches to the read sequence. "
   ]
  },
  {
   "cell_type": "code",
   "execution_count": 7,
   "metadata": {
    "collapsed": true
   },
   "outputs": [],
   "source": [
    "def hamming_distance_checker2(s, p):\n",
    "    ls = len(p) / 3\n",
    "    subsetp = [p[0:ls], p[ls:2*ls], p[2*ls:]]\n",
    "    flag = 0\n",
    "    for i in range(3):\n",
    "        if s.find(subsetp[i]) >= 0:\n",
    "            flag += 1\n",
    "    return flag"
   ]
  },
  {
   "cell_type": "markdown",
   "metadata": {},
   "source": [
    "#### For the second read mates, separate UMI+common sequence from the read sequences"
   ]
  },
  {
   "cell_type": "code",
   "execution_count": 11,
   "metadata": {},
   "outputs": [
    {
     "data": {
      "text/plain": [
       "6433396"
      ]
     },
     "execution_count": 11,
     "metadata": {},
     "output_type": "execute_result"
    }
   ],
   "source": [
    "fq2 = gzip.open(source+readFile2, 'rb')\n",
    "reads2 = fq2.readlines()\n",
    "len(reads2)"
   ]
  },
  {
   "cell_type": "code",
   "execution_count": 12,
   "metadata": {
    "collapsed": true
   },
   "outputs": [],
   "source": [
    "commonSeq = 'ATTGGAGTCCT'\n",
    "len_cs = len(commonSeq)\n",
    "len_MT = 12\n",
    "st_read = len_MT+len_cs"
   ]
  },
  {
   "cell_type": "markdown",
   "metadata": {},
   "source": [
    "For each sequence in the 1st read mates,\n",
    "* Firstly, check the primers with exact matching.\n",
    "* Secondly, if the read does not contain exactly-matched primers, consider the primer-read mapping with at most 2 mismatches allowed.\n",
    "\n",
    "\n",
    "For each sequence in the 2nd read mates, the first 12-bp is the unique molecular index sequence, the subsequent 11-bp is the common sequence, and the rest is the read sequence of interest."
   ]
  },
  {
   "cell_type": "code",
   "execution_count": 23,
   "metadata": {},
   "outputs": [
    {
     "name": "stderr",
     "output_type": "stream",
     "text": [
      " 99% |####################################################################### |\r"
     ]
    },
    {
     "name": "stdout",
     "output_type": "stream",
     "text": [
      "Time elapsed: 52.5131923159 min\n"
     ]
    },
    {
     "name": "stderr",
     "output_type": "stream",
     "text": [
      "100% |########################################################################|\r\n"
     ]
    }
   ],
   "source": [
    "out_read1 = open(outdir+read1_out, 'w')\n",
    "out_index1 = open(outdir+index1_out, 'w')\n",
    "out_read2 = open(outdir+read2_out, 'w')\n",
    "out_index2 = open(outdir+index2_out, 'w')\n",
    "nf = 0\n",
    "nr1, nr2, ni1, ni2 = [0,0,0,0]\n",
    "max_Hamming_dist = 2\n",
    "start_time = time.time()\n",
    "bar = progressbar.ProgressBar()\n",
    "for i in bar(range(Nreads)):\n",
    "    header_i = reads1[4*i].strip()\n",
    "    seq_i = reads1[4*i+1].strip()\n",
    "    score_i = reads1[4*i+3]\n",
    "    lr = len(seq_i)\n",
    "    yes = 0\n",
    "    diff_min = 2\n",
    "    lpr = 0\n",
    "    st = 0\n",
    "    for pr_i in primers:\n",
    "        loc_pr = seq_i[:50].find(pr_i)\n",
    "        if loc_pr >= 0:\n",
    "            st = loc_pr\n",
    "            lpr = len(pr_i)\n",
    "            pr_hi = primers[pr_i]\n",
    "            pr_si = score_i[st:(st+lpr)]\n",
    "            yes = 1\n",
    "            break\n",
    "            \n",
    "    if yes == 0:        \n",
    "        for pr in primers_sorted:\n",
    "            flag = hamming_distance_checker2(seq_i, pr)            \n",
    "            if flag == 0:\n",
    "                continue\n",
    "            k = len(pr)\n",
    "            for j in range(51-k):\n",
    "                kmer = seq_i[j:(j+k)]\n",
    "                dist = k - sum([kmer[b]==pr[b] for b in range(len(kmer))])\n",
    "                if dist <= max_Hamming_dist:\n",
    "                    pr_i = kmer\n",
    "                    pr_hi = primers[pr]\n",
    "                    pr_si = score_i[j:(j+k)]\n",
    "                    lpr = k\n",
    "                    st = j\n",
    "                    yes = 1\n",
    "                    break\n",
    "            if yes == 1:\n",
    "                break\n",
    "\n",
    "    if yes == 0:\n",
    "        nf += 1\n",
    "        out_index1.write(header_i+'\\tchrN\\nN\\n+\\n#\\n')\n",
    "        ni1 += 1\n",
    "    else:\n",
    "        seq_i = seq_i[(st+lpr):]\n",
    "        score_i = score_i[(st+lpr):]\n",
    "        out_index1.write(header_i+'\\t'+pr_hi+'\\n'+pr_i+'\\n+\\n'+pr_si+'\\n')\n",
    "        ni1 += 1\n",
    "        \n",
    "    if len(seq_i) == 0:\n",
    "        seq_i = 'N' * 100\n",
    "        score_i = '#' * 100 + '\\n'\n",
    "    out_read1.write(header_i+'\\n'+seq_i+'\\n+\\n'+score_i)\n",
    "    nr1+=1\n",
    "    \n",
    "    header2_i = reads2[4*i]\n",
    "    seq2_i = reads2[4*i+1].strip()\n",
    "    score2_i = reads2[4*i+3]\n",
    "    lr2 = len(seq2_i)\n",
    "    umi_seq = seq2_i[0:len_MT]\n",
    "    umi_scr = score2_i[0:len_MT]\n",
    "    seq2_i = seq2_i[st_read:]\n",
    "    score2_i = score2_i[st_read:]\n",
    "    out_read2.write(header2_i+seq2_i+'\\n+\\n'+score2_i)\n",
    "    nr2 += 1\n",
    "    out_index2.write(header2_i+umi_seq+'\\n+\\n'+umi_scr+'\\n')\n",
    "    ni2 += 1\n",
    "\n",
    "out_read1.close()\n",
    "out_index1.close()\n",
    "out_read2.close()\n",
    "out_index2.close()\n",
    "end_time = time.time()\n",
    "print 'Time elapsed:', (end_time-start_time) / 60.0, 'min'"
   ]
  },
  {
   "cell_type": "code",
   "execution_count": 24,
   "metadata": {},
   "outputs": [
    {
     "name": "stdout",
     "output_type": "stream",
     "text": [
      "69176 1608349\n",
      "1608349 1608349 1608349 1608349\n"
     ]
    }
   ],
   "source": [
    "print nf, Nreads\n",
    "print nr1, ni1, nr2, ni2"
   ]
  },
  {
   "cell_type": "code",
   "execution_count": null,
   "metadata": {
    "collapsed": true
   },
   "outputs": [],
   "source": []
  }
 ],
 "metadata": {
  "kernelspec": {
   "display_name": "Python 2",
   "language": "python",
   "name": "python2"
  },
  "language_info": {
   "codemirror_mode": {
    "name": "ipython",
    "version": 2
   },
   "file_extension": ".py",
   "mimetype": "text/x-python",
   "name": "python",
   "nbconvert_exporter": "python",
   "pygments_lexer": "ipython2",
   "version": "2.7.13"
  }
 },
 "nbformat": 4,
 "nbformat_minor": 2
}
