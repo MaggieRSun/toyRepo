{
 "cells": [
  {
   "cell_type": "code",
   "execution_count": 1,
   "metadata": {
    "collapsed": true
   },
   "outputs": [],
   "source": [
    "import gzip\n",
    "import itertools\n",
    "import subprocess\n",
    "import os\n",
    "import re\n",
    "import progressbar\n",
    "import time\n",
    "from itertools import izip_longest, izip, islice, tee, repeat"
   ]
  },
  {
   "cell_type": "code",
   "execution_count": 2,
   "metadata": {
    "collapsed": true
   },
   "outputs": [],
   "source": [
    "__author__='Maggie Ruimin Sun'"
   ]
  },
  {
   "cell_type": "markdown",
   "metadata": {},
   "source": [
    "Reference source code: umitag.py, scripted by Martin Aryee.\n",
    "\n",
    "Source code can be found at https://github.com/aryeelab/umi/blob/dev/umitag.py"
   ]
  },
  {
   "cell_type": "code",
   "execution_count": 72,
   "metadata": {
    "collapsed": true
   },
   "outputs": [],
   "source": [
    "source = '/home/yaneng/RSun/Data/qiagen-colon/undetermined/'\n",
    "out_dir = '/home/yaneng/RSun/Data/qiagen-colon/umi_tagged/'\n",
    "read1 = source + 'QIAGEN-2959YJ_S2_L001_R1_001_undetermined.fq'\n",
    "read2 = source + 'QIAGEN-2959YJ_S2_L001_R2_001_undetermined.fq'\n",
    "index1 = source + 'QIAGEN-2959YJ_S2_L001_I1_001_undetermined.fq'\n",
    "index2 = source + 'QIAGEN-2959YJ_S2_L001_I2_001_undetermined.fq'\n",
    "read1_out = out_dir + 'QIAGEN-2959YJ_S2_L001_R1_001_umi.fq'\n",
    "read2_out = out_dir + 'QIAGEN-2959YJ_S2_L001_R2_001_umi.fq'"
   ]
  },
  {
   "cell_type": "code",
   "execution_count": 32,
   "metadata": {
    "collapsed": true
   },
   "outputs": [],
   "source": [
    "def read_fq(filename):\n",
    "    if re.search('.gz$',filename):\n",
    "        fastq = gzip.open(filename, 'rb')\n",
    "    else:\n",
    "        fastq = open(filename)\n",
    "\n",
    "    with fastq as f:\n",
    "        while True:\n",
    "            l1 = f.readline()\n",
    "            if not l1:\n",
    "                break\n",
    "            l2 = f.readline()\n",
    "            l3 = f.readline()\n",
    "            l4 = f.readline()\n",
    "\n",
    "            yield [l1, l2, l3, l4]"
   ]
  },
  {
   "cell_type": "code",
   "execution_count": 68,
   "metadata": {
    "collapsed": true
   },
   "outputs": [],
   "source": [
    "def get_umi(r1, r2, i1, i2):\n",
    "    molecular_barcode = i2[1].strip()\n",
    "    if len(r1[1]) < 7:\n",
    "        s1 = 'N' * 6\n",
    "    else:\n",
    "        s1 = r1[1][0:6]\n",
    "    if len(r2[1]) < 7:\n",
    "        s2 = 'N' * 6\n",
    "    else:\n",
    "        s2 = r2[1][0:6]\n",
    "    return '(%s_%s_%s)' % (molecular_barcode, s1, s2)"
   ]
  },
  {
   "cell_type": "code",
   "execution_count": 70,
   "metadata": {},
   "outputs": [],
   "source": [
    "def umitag(read1, read2, index1, index2, read1_out, read2_out, out_dir):\n",
    "    if not os.path.exists(out_dir):\n",
    "        os.makedirs(out_dir)\n",
    "    \n",
    "    r1_umitagged_unsorted_file = read1_out + '.tmp'\n",
    "    r2_umitagged_unsorted_file = read2_out + '.tmp'\n",
    "    \n",
    "    #Create UMI-tagged R1 and R2 FASTQs\n",
    "    r1_umitagged = open(r1_umitagged_unsorted_file, 'w')\n",
    "    r2_umitagged = open(r2_umitagged_unsorted_file, 'w')\n",
    "    \n",
    "    Nreads = 0\n",
    "    ferr = open(out_dir+'error_reads.fastq', 'w')\n",
    "    for r1, r2, i1, i2 in itertools.izip(read_fq(read1), read_fq(read2), read_fq(index1), read_fq(index2)):\n",
    "        molecular_id = get_umi(r1, r2, i1, i2)\n",
    "        if r1[0][0] != '@' or r2[0][0] != '@':\n",
    "            ferr.write(str(Nreads)+'\\t'+r1[0].strip()+'\\t'+r2[0].stwc -rip()+'\\t'+molecular_id+'\\n')\n",
    "            ferr.write(r1[1].strip()+'\\t'+r2[1].strip()+'\\n')\n",
    "            ferr.write('+\\t+\\n')\n",
    "            ferr.write(r1[3].strip()+'\\t'+r2[3].strip()+'\\n')\n",
    "            \n",
    "        r1[0] = '%s %s\\n' % (r1[0].rstrip(), molecular_id)\n",
    "        r2[0] = '%s %s\\n' % (r2[0].rstrip(), molecular_id)\n",
    "        for line in r1:\n",
    "            r1_umitagged.write(line.strip()+'\\n')\n",
    "            \n",
    "        for line in r2:\n",
    "            r2_umitagged.write(line.strip()+'\\n')\n",
    "        Nreads += 1\n",
    "    r1_umitagged.close()\n",
    "    r2_umitagged.close()\n",
    "    print Nreads\n",
    "    #Sort FASTQs based on molecular barcodes\n",
    "    cmd = 'cat '+r1_umitagged_unsorted_file + ' | paste - - - - | sort -k 3,3 -k 1,1 | tr \"\\t\" \"\\n\" > ' + read1_out\n",
    "    subprocess.check_call(cmd, shell=True, env=os.environ.copy())\n",
    "    cmd = 'cat '+r2_umitagged_unsorted_file + ' | paste - - - - | sort -k 3,3 -k 1,1 | tr \"\\t\" \"\\n\" > ' + read2_out\n",
    "    subprocess.check_call(cmd, shell=True, env=os.environ.copy())\n",
    "    \n",
    "    os.remove(r1_umitagged_unsorted_file)\n",
    "    os.remove(r2_umitagged_unsorted_file)"
   ]
  },
  {
   "cell_type": "code",
   "execution_count": 11,
   "metadata": {
    "collapsed": true
   },
   "outputs": [],
   "source": [
    "def main():\n",
    "    umitag(read1, read2, index1, index2, read1_out, read2_out, source+out_dir)"
   ]
  },
  {
   "cell_type": "code",
   "execution_count": 69,
   "metadata": {
    "scrolled": true
   },
   "outputs": [
    {
     "name": "stdout",
     "output_type": "stream",
     "text": [
      "1608349\n"
     ]
    }
   ],
   "source": [
    "if __name__=='__main__':\n",
    "    main()"
   ]
  },
  {
   "cell_type": "code",
   "execution_count": null,
   "metadata": {
    "collapsed": true
   },
   "outputs": [],
   "source": []
  }
 ],
 "metadata": {
  "kernelspec": {
   "display_name": "Python 2",
   "language": "python",
   "name": "python2"
  },
  "language_info": {
   "codemirror_mode": {
    "name": "ipython",
    "version": 2
   },
   "file_extension": ".py",
   "mimetype": "text/x-python",
   "name": "python",
   "nbconvert_exporter": "python",
   "pygments_lexer": "ipython2",
   "version": "2.7.13"
  }
 },
 "nbformat": 4,
 "nbformat_minor": 2
}
