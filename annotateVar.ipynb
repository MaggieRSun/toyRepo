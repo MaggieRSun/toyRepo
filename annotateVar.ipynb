{
 "cells": [
  {
   "cell_type": "code",
   "execution_count": 1,
   "metadata": {
    "collapsed": true
   },
   "outputs": [],
   "source": [
    "import pandas as pd\n",
    "import numpy as np\n",
    "import os\n",
    "import time"
   ]
  },
  {
   "cell_type": "code",
   "execution_count": 20,
   "metadata": {
    "collapsed": true
   },
   "outputs": [],
   "source": [
    "def locateVar(vcf_file_org, vcf_file_new):\n",
    "    variants = {}\n",
    "    headers = []\n",
    "    f = open(vcf_file_org)\n",
    "    for line in f:\n",
    "        if line[0] == '#':\n",
    "            headers.append(line)\n",
    "            continue\n",
    "        v = line.strip().split('\\t')\n",
    "        chrom, seq_start, seq_end = v[0].split('_')\n",
    "        #print chrom, seq_start, seq_end, v[1]\n",
    "        pos = int(v[1]) + int(seq_start) -1\n",
    "        name = chrom + '_' + str(pos) + '_' + v[3] + '_' + v[4]\n",
    "        variants[name] = chrom + '\\t' + str(pos) + '\\t' + '\\t'.join(v[2:])\n",
    "    f.close()\n",
    "    \n",
    "    print 'Totally report %d SNVs.' % len(variants)\n",
    "    \n",
    "    with open(vcf_file_new, 'w') as fout:\n",
    "        for headline in headers:\n",
    "            fout.write(headline)\n",
    "        for key in sorted(variants):\n",
    "            fout.write(''.join(variants[key])+'\\n')\n",
    "    fout.close()\n",
    "    var_dict_tmp = {'Chrom':[], 'Pos':[], 'Ref':[], 'Alt':[]}\n",
    "    for name in variants:\n",
    "        v = name.split('_')\n",
    "        var_dict_tmp['Chrom'].append(v[0])\n",
    "        var_dict_tmp['Pos'].append(int(v[1]))\n",
    "        var_dict_tmp['Ref'].append(v[2])\n",
    "        var_dict_tmp['Alt'].append(v[3])\n",
    "    variantsDF = pd.DataFrame(var_dict_tmp, columns=['Chrom', 'Pos', 'Ref', 'Alt'])\n",
    "    variantsDF.index = variantsDF['Chrom'] + '_' + variantsDF['Pos'].astype(str)\n",
    "    return variantsDF"
   ]
  },
  {
   "cell_type": "code",
   "execution_count": 27,
   "metadata": {
    "collapsed": true
   },
   "outputs": [],
   "source": [
    "def annoteSNVID(vcf_file, variantsDF, output_vcf_file):\n",
    "    N_var = variantsDF.shape[0]\n",
    "    print 'Number of SNVs reported == ', N_var\n",
    "       \n",
    "    #load the dbSNP information related to the variants of the sample.\n",
    "    variantsDF['dbSNP_ID'] = np.asarray(['nan'] * N_var)\n",
    "    variantsDF['dbSNP_Ref'] = np.asarray(['nan'] * N_var)\n",
    "    variantsDF['dbSNP_Alt'] = np.asarray(['nan'] * N_var)\n",
    "    start_time_dbSNP = time.time()\n",
    "    \n",
    "    fd = open(vcf_file)\n",
    "\n",
    "    \n",
    "#    with futures.ThreadPoolExecutor(max_workers=5) as executor:\n",
    "#        future_vcf = {executor.submit(searchID, variantsDF, vcf_line): vcf_line for vcf_line in lines}\n",
    "#        for future in futures.as_completed(future_vcf):\n",
    "#            vcf = future_vcf[future]\n",
    "#            try:\n",
    "#                resultsDF = future.result()\n",
    "#            except Exception as exc:\n",
    "#                print 'Exception generated:',exc\n",
    "           \n",
    "    \n",
    "    \n",
    "#    bar = progressbar.ProgressBar()\n",
    "#    for line in bar(lines):\n",
    "    for line in fd:\n",
    "        if line[0] == '#':\n",
    "            continue\n",
    "        v = line.split('\\t')\n",
    "        chrom = 'chr' + v[0]\n",
    "        name = chrom + '_' + v[1]\n",
    "        if name in variantsDF.index:\n",
    "            variantsDF.dbSNP_ID[name] = v[2]\n",
    "            variantsDF.dbSNP_Ref[name] = v[3]\n",
    "            variantsDF.dbSNP_Alt[name] = v[4]     \n",
    "    fd.close()\n",
    "    end_time_dbSNP = time.time()\n",
    "    print (end_time_dbSNP - start_time_dbSNP) / 60.0\n",
    "    variantsDF = variantsDF.sort_index()\n",
    "    \n",
    "    variantsDF.to_csv(output_vcf_file, sep = '\\t', columns = ['Chrom', 'Pos', 'Ref', 'Alt', 'dbSNP_ID', 'dbSNP_Ref',\n",
    "                                                             'dbSNP_Alt'], \n",
    "                      header = True, index = False)\n",
    "    \n",
    "    return variantsDF"
   ]
  },
  {
   "cell_type": "code",
   "execution_count": 37,
   "metadata": {
    "collapsed": true
   },
   "outputs": [],
   "source": [
    "def checkSNVAnnotation(variantsDF, output_vcf_masked, output_vcf_unmasked):\n",
    "    index_mask = []\n",
    "    index_unmask = []\n",
    "    for idx in variantsDF.index:\n",
    "        if not variantsDF.loc[idx,'dbSNP_ID'] == 'nan':\n",
    "            if variantsDF.loc[idx, 'Ref'] == variantsDF.loc[idx, 'dbSNP_Ref'] and variantsDF.loc[idx, 'Alt'] in variantsDF.loc[idx,'dbSNP_Alt']:\n",
    "                index_mask.append(idx)\n",
    "            else:\n",
    "                index_unmask.append(idx)\n",
    "        else:\n",
    "            index_unmask.append(idx)\n",
    "    \n",
    "    variantsDF_masked = variantsDF.loc[index_mask]\n",
    "    variantsDF_unmasked = variantsDF.loc[index_unmask]\n",
    "    print 'Number of SNVs called with dbSNP/clinVar IDs == ',variantsDF_masked.shape[0]\n",
    "    print 'Number of SNVs called with no reference IDs == ', variantsDF_unmasked.shape[0]\n",
    "    \n",
    "    variantsDF_masked.to_csv(output_vcf_masked, sep='\\t',  columns = ['Chrom', 'Pos', 'Ref', 'Alt', 'dbSNP_ID', 'dbSNP_Ref',\n",
    "                                                             'dbSNP_Alt'], header = True, index = False)\n",
    "    variantsDF_unmasked.to_csv(output_vcf_unmasked, sep='\\t',  columns = ['Chrom', 'Pos', 'Ref', 'Alt', 'dbSNP_ID', 'dbSNP_Ref',\n",
    "                                                             'dbSNP_Alt'], header = True, index = False)"
   ]
  },
  {
   "cell_type": "code",
   "execution_count": 31,
   "metadata": {
    "collapsed": true
   },
   "outputs": [],
   "source": [
    "def main():\n",
    "    vcf_source = '/home/yaneng/RSun/Data/qiagen-colon/variance_called/'\n",
    "    vcf_file_org = vcf_source + 'QIANGEN-2959YJ_S2_L001_var.vcf'\n",
    "    vcf_file_new = vcf_source + 'QIANGEN-2959YJ_S2_L001_var_new.vcf'\n",
    "    #Modify the locations of SNVs from relative positions to genomic positions.\n",
    "    variants = locateVar(vcf_file_org, vcf_file_new)\n",
    "    \n",
    "    ref_source = '/home/yaneng/RSun/Data/Hg19/dbSNP/'\n",
    "    vcf_file = ref_source + 'QIAGEN-COLON-SNV.vcf'\n",
    "    output_vcf_file = vcf_source + 'QIANGEN-2959YJ_S2_L001_var_annoted.vcf'\n",
    "    #Correspond the identified SNVs to the dbSNP and clinVar IDs.\n",
    "    variants = annoteSNVID(vcf_file, variants, output_vcf_file)\n",
    "    \n",
    "    output_vcf_masked = vcf_source + 'QIANGEN-2959YJ_S2_L001_var_annoted_masked.vcf'\n",
    "    output_vcf_unmasked = vcf_source + 'QIANGEN-2959YJ_S2_L001_var_annoted_unmasked.vcf'\n",
    "    checkSNVAnnotation(variants, output_vcf_masked, output_vcf_unmasked)"
   ]
  },
  {
   "cell_type": "code",
   "execution_count": 38,
   "metadata": {},
   "outputs": [
    {
     "name": "stdout",
     "output_type": "stream",
     "text": [
      "Totally report 205 SNVs.\n",
      "Number of SNVs reported ==  205\n"
     ]
    },
    {
     "name": "stderr",
     "output_type": "stream",
     "text": [
      "/home/yaneng/anaconda2/lib/python2.7/site-packages/ipykernel_launcher.py:34: SettingWithCopyWarning: \n",
      "A value is trying to be set on a copy of a slice from a DataFrame\n",
      "\n",
      "See the caveats in the documentation: http://pandas.pydata.org/pandas-docs/stable/indexing.html#indexing-view-versus-copy\n",
      "/home/yaneng/anaconda2/lib/python2.7/site-packages/ipykernel_launcher.py:35: SettingWithCopyWarning: \n",
      "A value is trying to be set on a copy of a slice from a DataFrame\n",
      "\n",
      "See the caveats in the documentation: http://pandas.pydata.org/pandas-docs/stable/indexing.html#indexing-view-versus-copy\n",
      "/home/yaneng/anaconda2/lib/python2.7/site-packages/ipykernel_launcher.py:36: SettingWithCopyWarning: \n",
      "A value is trying to be set on a copy of a slice from a DataFrame\n",
      "\n",
      "See the caveats in the documentation: http://pandas.pydata.org/pandas-docs/stable/indexing.html#indexing-view-versus-copy\n"
     ]
    },
    {
     "name": "stdout",
     "output_type": "stream",
     "text": [
      "0.216473714511\n",
      "Number of SNVs called with dbSNP/clinVar IDs ==  151\n",
      "Number of SNVs called with no reference IDs ==  54\n"
     ]
    }
   ],
   "source": [
    "if __name__ == '__main__':\n",
    "    main()"
   ]
  },
  {
   "cell_type": "code",
   "execution_count": null,
   "metadata": {
    "collapsed": true
   },
   "outputs": [],
   "source": []
  }
 ],
 "metadata": {
  "kernelspec": {
   "display_name": "Python 2",
   "language": "python",
   "name": "python2"
  },
  "language_info": {
   "codemirror_mode": {
    "name": "ipython",
    "version": 2
   },
   "file_extension": ".py",
   "mimetype": "text/x-python",
   "name": "python",
   "nbconvert_exporter": "python",
   "pygments_lexer": "ipython2",
   "version": "2.7.13"
  }
 },
 "nbformat": 4,
 "nbformat_minor": 2
}
