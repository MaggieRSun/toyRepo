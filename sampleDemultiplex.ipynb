{
 "cells": [
  {
   "cell_type": "code",
   "execution_count": 1,
   "metadata": {
    "collapsed": true
   },
   "outputs": [],
   "source": [
    "from __future__ import print_function\n",
    "import os\n",
    "import re\n",
    "import gzip\n",
    "import itertools\n",
    "import argparse\n",
    "import time\n",
    "import logging"
   ]
  },
  {
   "cell_type": "code",
   "execution_count": 2,
   "metadata": {
    "collapsed": true
   },
   "outputs": [],
   "source": [
    "__author__ = 'Maggie Ruimin Sun'"
   ]
  },
  {
   "cell_type": "code",
   "execution_count": 5,
   "metadata": {
    "collapsed": true
   },
   "outputs": [],
   "source": [
    "logger = logging.getLogger('root')"
   ]
  },
  {
   "cell_type": "code",
   "execution_count": 3,
   "metadata": {
    "collapsed": true
   },
   "outputs": [],
   "source": [
    "def read_fq(filename):\n",
    "    if re.search('.gz$',filename):\n",
    "        fastq = gzip.open(filename, 'rb')\n",
    "    else:\n",
    "        fastq = open(filename)\n",
    "    with fastq as f:\n",
    "        while True:\n",
    "            l1 = f.readline()\n",
    "            if not l1:\n",
    "                break\n",
    "            l2 = f.readline()\n",
    "            l3 = f.readline\n",
    "            l4 = f.readline()\n",
    "            yield [l1, l2, l3, l4]"
   ]
  },
  {
   "cell_type": "code",
   "execution_count": 4,
   "metadata": {
    "collapsed": true
   },
   "outputs": [],
   "source": [
    "def get_sample_id(i1, i2, sample_names):\n",
    "    seq1 = i1[1]\n",
    "    seq2 = i2[1]\n",
    "    sample_barcode = seq1 + seq2\n",
    "    if sample_barcode in sample_names:\n",
    "        return sample_names[sample_barcode]\n",
    "    else:\n",
    "        return sample_barcode"
   ]
  },
  {
   "cell_type": "code",
   "execution_count": 6,
   "metadata": {
    "collapsed": true
   },
   "outputs": [],
   "source": [
    "def demultiplex(read1, read2, index1, index2, sample_barcodes, out_dir, min_reads):\n",
    "    if not os.path.exists(out_dir):\n",
    "        os.makedirs(out_dir)\n",
    "    \n",
    "    if type(sample_barcodes) != dict:\n",
    "        sample_names = {}\n",
    "        if not sample_barcodes == None:\n",
    "            for line in open(sample_barcodes,'r'):\n",
    "                fields = line.strip().split('\\t')\n",
    "                if len(fields)==2:\n",
    "                    sampleid, barcode = fields\n",
    "                    sample_names[barcode] = sampleid\n",
    "    else:\n",
    "        sample_names = sample_barcodes\n",
    "        \n",
    "    outfiles_r1 = {}\n",
    "    outfiles_r2 = {}\n",
    "    outfiles_i1 = {}\n",
    "    outfiles_i2 = {}\n",
    "    \n",
    "    total_count = 0\n",
    "    count = {}\n",
    "    buffer_r1 = {}\n",
    "    buffer_r2 = {}\n",
    "    buffer_i1 = {}\n",
    "    buffer_i2 = {}\n",
    "    \n",
    "    start = time.time()\n",
    "    for r1, r2, i1, i2 in itertools.izip(read_fq(read1), read_fq(read2),read_fq(index1),read_fq(index2)):\n",
    "        total_count += 1\n",
    "        if total_count % 1000000 == 0:\n",
    "            logger.info(\"Procesed %d reads in %.1f minutes.\", total_count, (time.time()-start)/60)\n",
    "        sample_id = get_sample_id(i1, i2, sample_names)\n",
    "        \n",
    "        if not count.has_key(sample_id):\n",
    "            count[sample_id] = []\n",
    "            buffer_r1[sample_id] = []\n",
    "            buffer_r2[sample_id] = []\n",
    "            buffer_i1[sample_id] = []\n",
    "            buffer_i2[sample_id] = []\n",
    "        count[sample_id] += 1\n",
    "        \n",
    "        if count[smaple_id] < min_reads:\n",
    "            buffer_r1[sample_id].append(r1)\n",
    "            buffer_r2[sample_id].append(r2)\n",
    "            buffer_i1[sample_id].append(i1)\n",
    "            buffer_i2[sample_id].append(i2)\n",
    "        elif count[sample_id] == min_reads:\n",
    "            outfiles_r1[sample_id] = open(os.path.join(out_dir, '%s.r1.fq' % sample_id), 'w')\n",
    "            outfiles_r2[sample_id] = open(os.path.join(out_dir, '%s.r2.fq' % sample_id), 'w')\n",
    "            outfiles_i1[sample_id] = open(os.path.join(out_dir, '%s.i1.fq' % sample_id), 'w')\n",
    "            outfiles_i2[sample_id] = open(os.path.join(out_dir, '%s.i2.fq' % sample_id), 'w')\n",
    "            for record in buffer_r1[sample_id] + r1:\n",
    "                outfiles_r1[sample_id].write(''.join(record))\n",
    "            for record in buffer_r2[sample_id] + r2:\n",
    "                outfiles_r2[sample_id].write(''.join(record))\n",
    "            for record in buffer_i1[sample_id] + i1:\n",
    "                outfiles_i1[sample_id].write(''.join(record))\n",
    "            for record in buffer_i2[sample_id] + i2:\n",
    "                outfiles_i2[sample_id].write(''.join(record))\n",
    "            del buffer_r1[sample_id]\n",
    "            del buffer_r2[sample_id]\n",
    "            del buffer_i1[sample_id]\n",
    "            del buffer_i2[sample_id]\n",
    "        else:\n",
    "            for line in r1:\n",
    "                print (line, file=outfiles_r1[sample_id], end=\"\")\n",
    "            for line in r2:\n",
    "                print (line, file=outfiles_r2[sample_id], end=\"\")\n",
    "            for line in i1:\n",
    "                print (line, file=outfiles_i1[sample_id], end=\"\")\n",
    "            for line in i2:\n",
    "                print (line, file=outfiles_i2[sample_id], end=\"\")\n",
    "        \n",
    "    undetermined_r1 = open(os.path.join(out_dir, 'undetermined_r1.fq'), 'w')\n",
    "    undetermined_r2 = open(os.path.join(out_dir, 'undetermined_r2.fq'), 'w')\n",
    "    undetermined_i1 = open(os.path.join(out_dir, 'undetermined_i1.fq'), 'w')\n",
    "    undetermined_i2 = open(os.path.join(out_dir, 'undetermined_i2.fq'), 'w')\n",
    "    for sample_id in buffer_r1.keys():\n",
    "        for record in buffer_r1[sample_id]:\n",
    "            undetermined_r1.write(''.join(record))\n",
    "        for record in buffer_r2[sample_id]:\n",
    "            undetermined_r2.write(''.join(record))\n",
    "        for record in buffer_i1[sample_id]:\n",
    "            undetermined_i1.write(''.join(record))\n",
    "        for record in buffer_i2[sample_id]:\n",
    "            undetermined_i2.write(''.join(record))\n",
    "    \n",
    "    for sample_id in outfiles_r1:\n",
    "        outfiles_r1[sample_id].close()\n",
    "        outfiles_r2[sample_id].close()\n",
    "        outfiles_i1[sample_id].close()\n",
    "        outfiles_i2[sample_id].close()\n",
    "    undetermined_r1.close()\n",
    "    undetermined_r2.close()\n",
    "    undetermined_i1.close()\n",
    "    undetermined_i2.close()\n",
    "    \n",
    "    num_fastqs = len([v for k,v in count.iteritems() if v>=min_reads])\n",
    "    logger.info('Wrote FASTQs for %d sample barcodes out of %d with at least %d reads.', num_fastqs, len(count), min_reads)"
   ]
  },
  {
   "cell_type": "code",
   "execution_count": 8,
   "metadata": {
    "collapsed": true
   },
   "outputs": [],
   "source": [
    "def main():\n",
    "    source = '/home/yaneng/RSun/Data/qiagen-colon/'\n",
    "    out_dir = source + 'demultiplexed/'\n",
    "    read1 = source + 'QIAGEN-2959YJ_S2_L001_R1_001_undetermined.fq'\n",
    "    read2 = source + 'QIAGEN-2959YJ_S2_L001_R2_001_undetermined.fq'\n",
    "    index1 = source + 'QIAGEN-2959YJ_S2_L001_I1_001_undetermined.fq'\n",
    "    index2 = source + 'QIAGEN-2959YJ_S2_L001_I2_001_undetermined.fq'\n",
    "    min_reads = 10000\n",
    "    sample_barcodes = {} # key=barcode, value=sample_id\n",
    "    if len(sample_barcodes) > 1:\n",
    "        demultiplex(read1, read2, index1, index2, sample_barcodes, out_dir, min_reads=min_reads)\n"
   ]
  },
  {
   "cell_type": "code",
   "execution_count": 9,
   "metadata": {
    "collapsed": true
   },
   "outputs": [],
   "source": [
    "if __name__ == '__main__':\n",
    "    main()"
   ]
  },
  {
   "cell_type": "code",
   "execution_count": null,
   "metadata": {
    "collapsed": true
   },
   "outputs": [],
   "source": []
  }
 ],
 "metadata": {
  "kernelspec": {
   "display_name": "Python 2",
   "language": "python",
   "name": "python2"
  },
  "language_info": {
   "codemirror_mode": {
    "name": "ipython",
    "version": 2
   },
   "file_extension": ".py",
   "mimetype": "text/x-python",
   "name": "python",
   "nbconvert_exporter": "python",
   "pygments_lexer": "ipython2",
   "version": "2.7.13"
  }
 },
 "nbformat": 4,
 "nbformat_minor": 2
}
