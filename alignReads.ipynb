{
 "cells": [
  {
   "cell_type": "code",
   "execution_count": 1,
   "metadata": {
    "collapsed": true
   },
   "outputs": [],
   "source": [
    "import subprocess\n",
    "import os\n",
    "import logging"
   ]
  },
  {
   "cell_type": "code",
   "execution_count": 2,
   "metadata": {
    "collapsed": true
   },
   "outputs": [],
   "source": [
    "__author__='Maggie Ruimin Sun'"
   ]
  },
  {
   "cell_type": "markdown",
   "metadata": {},
   "source": [
    "Reference source code: alignReads.py, scripted by Martin Aryee.\n",
    "Source code can be found at https://github.com/aryeelab/guideseq/tree/master/guideseq"
   ]
  },
  {
   "cell_type": "code",
   "execution_count": 3,
   "metadata": {
    "collapsed": true
   },
   "outputs": [],
   "source": [
    "logger = logging.getLogger('root')\n",
    "logger.propagate = False"
   ]
  },
  {
   "cell_type": "code",
   "execution_count": 5,
   "metadata": {
    "collapsed": true
   },
   "outputs": [],
   "source": [
    "def alignReads(BWA_path, HG19_ref_seq, HG19_ref_index, read1, read2, outfile):\n",
    "    output_folder = os.path.dirname(outfile)\n",
    "    if not os.path.exists(output_folder):\n",
    "        os.makedirs(output_folder)\n",
    "    \n",
    "    sample_alignment_paths = {}\n",
    "    \n",
    "    index_files_extensions = ['.pac', '.amb', '.ann', '.bwt', '.sa']\n",
    "    \n",
    "    genome_indexed = True\n",
    "    \n",
    "    for extension in index_files_extensions:\n",
    "        if not os.path.isfile(HG19_ref_index + extension):\n",
    "            genome_indexed = False\n",
    "            break\n",
    "    if not genome_indexed:\n",
    "        #logger.info('Genome index files not detected. Running BWA to generate indices.')\n",
    "        print 'Genome index files not detected. Running BWA to generate indices.'\n",
    "        bwa_index_command = '{0} index -p {1} {2}'.format(BWA_path, HG19_ref_index, HG19_ref_seq)\n",
    "        #logger.info(\"Running bwa command: %s\", bwa_index_command)\n",
    "        print \"Running bwa command: \" + bwa_index_command\n",
    "        subprocess.call(bwa_index_command.split())\n",
    "        #logger.info('BWA genome index generated.')\n",
    "        print 'BWA genome index generated.'\n",
    "    else:\n",
    "        #logger.info('BWA genome index found.')\n",
    "        print 'BWA genome index found.'\n",
    "    print 'Running paired end mapping.'\n",
    "    #logger.info('Running paired end mapping for {0}'.format(sample_name))\n",
    "    bwa_alignment_command = '{0} mem {1} {2} {3}'.format(BWA_path, HG19_ref_index, read1, read2)\n",
    "    #logger.info(bwa_alignment_command)\n",
    "    print bwa_alignment_command\n",
    "    \n",
    "    with open(outfile, 'w') as f:\n",
    "        subprocess.call(bwa_alignment_command.split(), stdout=f)\n",
    "    #logger.info('Paired end mapping completed.')\n",
    "    print 'Paired end mapping completed.'"
   ]
  },
  {
   "cell_type": "code",
   "execution_count": 6,
   "metadata": {
    "collapsed": true
   },
   "outputs": [],
   "source": [
    "def main():\n",
    "    BWA_path = '/home/yaneng/RSun/Softwares/bwa/bwa'\n",
    "    HG19_ref_index = '/home/yaneng/RSun/Softwares/bwa/QIANGEN_DHS_002Z'\n",
    "    HG19_ref_seq = '/home/yaneng/RSun/Data/qiagen-colon/DHS-002Z.refSeq.fa'\n",
    "    read1 = '/home/yaneng/RSun/Data/qiagen-colon/consolidated/QIAGEN-2959YJ_S2_L001_R1_001_consolidated.fq'\n",
    "    read2 = '/home/yaneng/RSun/Data/qiagen-colon/consolidated/QIAGEN-2959YJ_S2_L001_R2_001_consolidated.fq'\n",
    "    outfile = '/home/yaneng/RSun/Data/qiagen-colon/aligned/QIANGEN-2959YJ_S2_L001_aligned.sam'\n",
    "    alignReads(BWA_path, HG19_ref_seq, HG19_ref_index, read1, read2, outfile)"
   ]
  },
  {
   "cell_type": "code",
   "execution_count": 8,
   "metadata": {},
   "outputs": [
    {
     "name": "stdout",
     "output_type": "stream",
     "text": [
      "Genome index files not detected. Running BWA to generate indices.\n",
      "Running bwa command: /home/yaneng/RSun/Softwares/bwa/bwa index -p /home/yaneng/RSun/Softwares/bwa/QIANGEN_DHS_002Z /home/yaneng/RSun/Data/qiagen-colon/DHS-002Z.refSeq.fa\n",
      "BWA genome index generated.\n",
      "Running paired end mapping.\n",
      "/home/yaneng/RSun/Softwares/bwa/bwa mem /home/yaneng/RSun/Softwares/bwa/QIANGEN_DHS_002Z /home/yaneng/RSun/Data/qiagen-colon/consolidated/QIAGEN-2959YJ_S2_L001_R1_001_consolidated.fq /home/yaneng/RSun/Data/qiagen-colon/consolidated/QIAGEN-2959YJ_S2_L001_R2_001_consolidated.fq\n",
      "Paired end mapping completed.\n"
     ]
    }
   ],
   "source": [
    "if __name__ == '__main__':\n",
    "    main()"
   ]
  },
  {
   "cell_type": "code",
   "execution_count": null,
   "metadata": {
    "collapsed": true
   },
   "outputs": [],
   "source": []
  }
 ],
 "metadata": {
  "kernelspec": {
   "display_name": "Python 2",
   "language": "python",
   "name": "python2"
  },
  "language_info": {
   "codemirror_mode": {
    "name": "ipython",
    "version": 2
   },
   "file_extension": ".py",
   "mimetype": "text/x-python",
   "name": "python",
   "nbconvert_exporter": "python",
   "pygments_lexer": "ipython2",
   "version": "2.7.13"
  }
 },
 "nbformat": 4,
 "nbformat_minor": 2
}
