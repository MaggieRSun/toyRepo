{
 "cells": [
  {
   "cell_type": "code",
   "execution_count": 1,
   "metadata": {
    "collapsed": true
   },
   "outputs": [],
   "source": [
    "import sys\n",
    "import os\n",
    "import logging\n",
    "import time\n",
    "import progressbar\n",
    "import itertools\n",
    "from itertools import izip_longest, izip, islice, tee, repeat"
   ]
  },
  {
   "cell_type": "code",
   "execution_count": 2,
   "metadata": {
    "collapsed": true
   },
   "outputs": [],
   "source": [
    "__author__='Maggie Ruimin Sun'"
   ]
  },
  {
   "cell_type": "markdown",
   "metadata": {},
   "source": [
    "Reference source code: consolidate.py, scripted by Martin Aryee.\n",
    "Source code can be found at https://github.com/aryeelab/umi/tree/3fef4c92becda4c2b4b6085555415f80c1dd858e"
   ]
  },
  {
   "cell_type": "code",
   "execution_count": 3,
   "metadata": {
    "collapsed": true
   },
   "outputs": [],
   "source": [
    "logger = logging.getLogger('root')"
   ]
  },
  {
   "cell_type": "code",
   "execution_count": 4,
   "metadata": {
    "collapsed": true
   },
   "outputs": [],
   "source": [
    "def read_bins(fastq_file):\n",
    "    read_num = 0\n",
    "    infile = open(fastq_file)\n",
    "    reads = infile.readlines()\n",
    "    Nreads = len(reads)/4\n",
    "    infile.close()\n",
    "    cur_molecular_id = ''\n",
    "    i = 0\n",
    "    while i < Nreads:\n",
    "        read_header = reads[4*i]\n",
    "        read_seq = reads[4*i + 1]\n",
    "        read_qual = reads[4*i + 3]\n",
    "        read_num += 1\n",
    "        read_name, sample_id, molecular_id = read_header.strip().split(' ')\n",
    "        read_qual = [str(ord(x)-33) for x in read_qual.strip()]\n",
    "        read = [read_header.rstrip(), read_seq.rstrip(), '+', read_qual]\n",
    "        i += 1\n",
    "        if molecular_id == cur_molecular_id:\n",
    "            bin_reads.append(read)\n",
    "        else:\n",
    "            if cur_molecular_id != '':\n",
    "                yield cur_molecular_id, cur_sample_id, bin_reads\n",
    "            cur_molecular_id = molecular_id\n",
    "            cur_sample_id = sample_id\n",
    "            bin_reads = [read]\n",
    "    yield cur_molecular_id, cur_sample_id, bin_reads"
   ]
  },
  {
   "cell_type": "code",
   "execution_count": 5,
   "metadata": {
    "collapsed": true
   },
   "outputs": [],
   "source": [
    "def consolidate_position(bases, quals, min_qual, min_freq):\n",
    "    num = {}\n",
    "    qual = {}\n",
    "    num['A'] = num['C'] = num['G'] = num['T'] = num['N'] = 0\n",
    "    qual['A'] = qual['C'] = qual['G'] = qual['T'] = qual['N'] = 0\n",
    "    for bb, qq in zip(bases, quals):\n",
    "        qq = int(qq)\n",
    "        if qq > min_qual:\n",
    "            num[bb] += 1\n",
    "        if qq > qual[bb]:\n",
    "            qual[bb] = qq\n",
    "    most_common_base = max(num.iterkeys(), key=(lambda key: num[key]))\n",
    "    freq = float(num[most_common_base]) / len(bases)\n",
    "    if freq > min_freq:\n",
    "        return True, most_common_base, qual[most_common_base]\n",
    "    else:\n",
    "        return False, 'N', 0"
   ]
  },
  {
   "cell_type": "code",
   "execution_count": 6,
   "metadata": {
    "collapsed": true
   },
   "outputs": [],
   "source": [
    "def consolidate(fastq_file, consolidate_fastq_file, min_qual, min_freq):\n",
    "    logger.info(\"Consolidating reads in %s\", fastq_file)\n",
    "    outfolder = os.path.dirname(consolidate_fastq_file)\n",
    "    if not os.path.exists(outfolder):\n",
    "        os.makedirs(outfolder)\n",
    "        \n",
    "    outfile = open(consolidate_fastq_file, 'w')\n",
    "    bins = read_bins(fastq_file)\n",
    "\n",
    "    \n",
    "    num_input_reads = 0\n",
    "    num_consolidate_reads = 0\n",
    "    num_successes = 0\n",
    "    num_bases = 0\n",
    "    \n",
    "    for cur_molecular_id, cur_sample_id, reads in bins:\n",
    "        num_input_reads += len(reads)\n",
    "        num_consolidate_reads += 1\n",
    "        \n",
    "        #For the same molecular id, group the bases in each read sequence by positoin.\n",
    "        #Here, zip(*[list1, list2, ...]) make a transpose of [list1, list2, ...]\n",
    "        read_bases = zip(*[list(read[1]) for read in reads])\n",
    "        read_quals = zip(*[list(read[3]) for read in reads])\n",
    "        consolidation_success, cons_seq, cons_qual = zip(*[consolidate_position(bases, quals,\n",
    "                                                                               min_qual, min_freq,) \n",
    "                                                          for bases, quals, in zip(read_bases, read_quals)])\n",
    "        num_successes += sum(consolidation_success)\n",
    "        num_bases += len(consolidation_success)\n",
    "        \n",
    "        outfile.write('@%s_%d %s\\n' % (cur_molecular_id, len(reads), cur_sample_id))\n",
    "        outfile.write(''.join(cons_seq)+'\\n+\\n')\n",
    "        outfile.write(''.join([chr(q+33) for q in cons_qual])+'\\n')\n",
    "#        if num_input_reads > 1000:\n",
    "#            break\n",
    "    outfile.close()\n",
    "    print num_input_reads\n",
    "    logger.info(\"Read %d input reads\", num_input_reads)\n",
    "    logger.info(\"Wrote %d consolidated reads to %s\", num_consolidate_reads, consolidate_fastq_file)\n",
    "    logger.info(\"Successfully consolidated %d bases out of %d (%.2f%%)\", num_successes, num_bases, 100*float(num_successes)/num_bases)\n",
    "    "
   ]
  },
  {
   "cell_type": "code",
   "execution_count": 7,
   "metadata": {
    "collapsed": true
   },
   "outputs": [],
   "source": [
    "def main():\n",
    "    source =  '/home/yaneng/RSun/Data/qiagen-colon/'\n",
    "    in_dir = 'umi_tagged/'\n",
    "    out_dir = 'consolidated/'\n",
    "    fastq_file1 = source + in_dir + 'QIAGEN-2959YJ_S2_L001_R1_001_umi.fq'\n",
    "    fastq_file2 = source + in_dir + 'QIAGEN-2959YJ_S2_L001_R2_001_umi.fq'\n",
    "    consolidate_fastq_file1 = source + out_dir + 'QIAGEN-2959YJ_S2_L001_R1_001_consolidated.fq'\n",
    "    consolidate_fastq_file2 = source + out_dir + 'QIAGEN-2959YJ_S2_L001_R2_001_consolidated.fq'\n",
    "    min_qual = 30\n",
    "    min_freq = 0.9\n",
    "    consolidate(fastq_file1, consolidate_fastq_file1, min_qual, min_freq)\n",
    "    logger.info(\"Consolidation of reads in %s is successfully done.\", fastq_file1)\n",
    "    \n",
    "    consolidate(fastq_file2, consolidate_fastq_file2, min_qual, min_freq)\n",
    "    logger.info(\"Consolidation of reads in %s is successfully done.\", fastq_file2)\n"
   ]
  },
  {
   "cell_type": "code",
   "execution_count": 8,
   "metadata": {},
   "outputs": [
    {
     "name": "stdout",
     "output_type": "stream",
     "text": [
      "1608349\n",
      "1608349\n"
     ]
    }
   ],
   "source": [
    "if __name__ == '__main__':\n",
    "    main()"
   ]
  },
  {
   "cell_type": "code",
   "execution_count": null,
   "metadata": {
    "collapsed": true
   },
   "outputs": [],
   "source": []
  }
 ],
 "metadata": {
  "kernelspec": {
   "display_name": "Python 2",
   "language": "python",
   "name": "python2"
  },
  "language_info": {
   "codemirror_mode": {
    "name": "ipython",
    "version": 2
   },
   "file_extension": ".py",
   "mimetype": "text/x-python",
   "name": "python",
   "nbconvert_exporter": "python",
   "pygments_lexer": "ipython2",
   "version": "2.7.13"
  }
 },
 "nbformat": 4,
 "nbformat_minor": 2
}
