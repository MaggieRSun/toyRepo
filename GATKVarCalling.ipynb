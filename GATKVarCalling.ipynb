{
 "cells": [
  {
   "cell_type": "code",
   "execution_count": 1,
   "metadata": {
    "collapsed": true
   },
   "outputs": [],
   "source": [
    "import subprocess\n",
    "import os\n",
    "import logging"
   ]
  },
  {
   "cell_type": "code",
   "execution_count": 2,
   "metadata": {
    "collapsed": true
   },
   "outputs": [],
   "source": [
    "__author__ = 'Maggie Ruimin Sun'"
   ]
  },
  {
   "cell_type": "code",
   "execution_count": 3,
   "metadata": {
    "collapsed": true
   },
   "outputs": [],
   "source": [
    "logger = logging.getLogger('root')\n",
    "logger.propagate = False"
   ]
  },
  {
   "cell_type": "code",
   "execution_count": 4,
   "metadata": {
    "collapsed": true
   },
   "outputs": [],
   "source": [
    "def sortSAM(sam_file, samtool_dir, out_bam_file, out_sort_file):\n",
    "    output_folder = os.path.dirname(out_bam_file)\n",
    "    if not os.path.exists(output_folder):\n",
    "        os.makedirs(output_folder)\n",
    "        \n",
    "    alignment_success = True\n",
    "    \n",
    "    if not os.path.isfile(sam_file):\n",
    "        alignment_success = False\n",
    "    \n",
    "    if not alignment_success:\n",
    "        print 'Reads have not been aligned yet, or the path to SAM file is WRONG!'\n",
    "    else:\n",
    "        print 'Alignment file is: ' + sam_file\n",
    "    \n",
    "    print 'Sorting the alignment file...'\n",
    "    bam_command = '{0} view -b {1} -o {2}'.format(samtool_dir, sam_file, out_bam_file)\n",
    "    sort_command = '{0} sort {1} -o {2}'.format(samtool_dir, out_bam_file, out_sort_file)\n",
    "    print bam_command\n",
    "    subprocess.call(bam_command.split())\n",
    "    print sort_command\n",
    "    subprocess.call(sort_command.split())\n",
    "    print 'The alignment file ' + sam_file + ' has been successfully sorted.'"
   ]
  },
  {
   "cell_type": "code",
   "execution_count": 5,
   "metadata": {
    "collapsed": true
   },
   "outputs": [],
   "source": [
    "def callVar(in_sort_file, ref_FA_file, samtool_dir, varscan_dir, min_MAPQ, pileup_file, output_vcf):\n",
    "    output_folder = os.path.dirname(output_vcf)\n",
    "    if not os.path.exists(output_folder):\n",
    "        os.makedirs(output_folder)\n",
    "    \n",
    "    alignment_sorted = True\n",
    "    \n",
    "    if not os.path.isfile(in_sort_file):\n",
    "        alignment_sorted = False\n",
    "    \n",
    "    if not alignment_sorted:\n",
    "        print in_sort_file + ' does not exist!'\n",
    "    else:\n",
    "        print 'Sorted alignment file is: ' + in_sort_file\n",
    "    \n",
    "    if not os.path.isfile(ref_FA_file+'.fai'):\n",
    "        print 'Reference sequence file is not faidx indexed.'\n",
    "        faidx_command = '{0} faidx {1}'.format(samtool_dir, ref_FA_file)\n",
    "        print faidx_command\n",
    "        subprocess.call(faidx_command.split())\n",
    "        print 'Reference sequence file is faidx indexed.\\n'\n",
    "    else:\n",
    "        print 'Reference sequence file has been faidx indexed.\\n'\n",
    "    \n",
    "    \n",
    "    print '\\nPiling alignment results up with the reference genome sequence...'\n",
    "    pileup_command = '{0} mpileup -f {1} -q{2} {3}'.format(samtool_dir, ref_FA_file, str(min_MAPQ), in_sort_file)\n",
    "    print pileup_command\n",
    "    with open(pileup_file, 'w') as f:\n",
    "        subprocess.call(pileup_command.split(), stdout=f)\n",
    "    f.close()\n",
    "    print '\\nCalling SNVs...'\n",
    "    snv_command = 'java -jar {0} mpileup2snp {1} --output-vcf'.format(varscan_dir, pileup_file)\n",
    "    print snv_command\n",
    "    with open(output_vcf, 'w') as fout:\n",
    "        subprocess.call(snv_command.split(), stdout=fout)\n",
    "    fout.close()\n",
    "    print 'SNV calling completed.'"
   ]
  },
  {
   "cell_type": "code",
   "execution_count": 11,
   "metadata": {
    "collapsed": true
   },
   "outputs": [],
   "source": [
    "def main():\n",
    "    sam_file = '/home/yaneng/RSun/Data/qiagen-colon/aligned/QIANGEN-2959YJ_S2_L001_aligned.sam'\n",
    "    samtool_dir = '/home/yaneng/RSun/Softwares/samtools/samtools'\n",
    "    out_bam_file = '/home/yaneng/RSun/Data/qiagen-colon/aligned/QIANGEN-2959YJ_S2_L001_aligned.bam'\n",
    "    out_sort_file = '/home/yaneng/RSun/Data/qiagen-colon/aligned/QIANGEN-2959YJ_S2_L001_sorted.bam'\n",
    "    ref_FA_file = '/home/yaneng/RSun/Data/qiagen-colon/DHS-002Z.refSeq.fa'\n",
    "    varscan_dir = '/home/yaneng/RSun/Softwares/VarScan.v2.3.9.jar'\n",
    "    min_MAPQ = 30\n",
    "    pileup_file = '/home/yaneng/RSun/Data/qiagen-colon/variance_called/QIANGEN-2959YJ_S2_L001.pileup'\n",
    "    output_vcf = '/home/yaneng/RSun/Data/qiagen-colon/variance_called/QIANGEN-2959YJ_S2_L001_var.vcf'\n",
    "    \n",
    "    sortSAM(sam_file, samtool_dir, out_bam_file, out_sort_file)\n",
    "    callVar(out_sort_file, ref_FA_file, samtool_dir, varscan_dir, min_MAPQ, pileup_file, output_vcf)\n",
    "    "
   ]
  },
  {
   "cell_type": "code",
   "execution_count": 12,
   "metadata": {},
   "outputs": [
    {
     "name": "stdout",
     "output_type": "stream",
     "text": [
      "Alignment file is: /home/yaneng/RSun/Data/qiagen-colon/aligned/QIANGEN-2959YJ_S2_L001_aligned.sam\n",
      "Sorting the alignment file...\n",
      "/home/yaneng/RSun/Softwares/samtools/samtools view -b /home/yaneng/RSun/Data/qiagen-colon/aligned/QIANGEN-2959YJ_S2_L001_aligned.sam -o /home/yaneng/RSun/Data/qiagen-colon/aligned/QIANGEN-2959YJ_S2_L001_aligned.bam\n",
      "/home/yaneng/RSun/Softwares/samtools/samtools sort /home/yaneng/RSun/Data/qiagen-colon/aligned/QIANGEN-2959YJ_S2_L001_aligned.bam -o /home/yaneng/RSun/Data/qiagen-colon/aligned/QIANGEN-2959YJ_S2_L001_sorted.bam\n",
      "The alignment file /home/yaneng/RSun/Data/qiagen-colon/aligned/QIANGEN-2959YJ_S2_L001_aligned.sam has been successfully sorted.\n",
      "Sorted alignment file is: /home/yaneng/RSun/Data/qiagen-colon/aligned/QIANGEN-2959YJ_S2_L001_sorted.bam\n",
      "Reference sequence file has been faidx indexed.\n",
      "\n",
      "\n",
      "Piling alignment results up with the reference genome sequence...\n",
      "/home/yaneng/RSun/Softwares/samtools/samtools mpileup -f /home/yaneng/RSun/Data/qiagen-colon/DHS-002Z.refSeq.fa -q30 /home/yaneng/RSun/Data/qiagen-colon/aligned/QIANGEN-2959YJ_S2_L001_sorted.bam\n",
      "\n",
      "Calling SNVs...\n",
      "java -jar /home/yaneng/RSun/Softwares/VarScan.v2.3.9.jar mpileup2snp /home/yaneng/RSun/Data/qiagen-colon/variance_called/QIANGEN-2959YJ_S2_L001.pileup --output-vcf\n",
      "SNV calling completed.\n"
     ]
    }
   ],
   "source": [
    "if __name__ == '__main__':\n",
    "    main()"
   ]
  },
  {
   "cell_type": "code",
   "execution_count": null,
   "metadata": {
    "collapsed": true
   },
   "outputs": [],
   "source": []
  }
 ],
 "metadata": {
  "kernelspec": {
   "display_name": "Python 2",
   "language": "python",
   "name": "python2"
  },
  "language_info": {
   "codemirror_mode": {
    "name": "ipython",
    "version": 2
   },
   "file_extension": ".py",
   "mimetype": "text/x-python",
   "name": "python",
   "nbconvert_exporter": "python",
   "pygments_lexer": "ipython2",
   "version": "2.7.13"
  }
 },
 "nbformat": 4,
 "nbformat_minor": 2
}
